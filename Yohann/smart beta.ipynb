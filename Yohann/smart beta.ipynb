{
 "cells": [
  {
   "cell_type": "code",
   "execution_count": 1,
   "metadata": {},
   "outputs": [],
   "source": [
    "import yfinance as yf\n",
    "import pandas as pd\n",
    "import numpy as np\n",
    "import scipy.optimize as opt"
   ]
  },
  {
   "cell_type": "code",
   "execution_count": 2,
   "metadata": {},
   "outputs": [],
   "source": [
    "\n",
    "\n",
    "ticker = 'AAPL'\n",
    "data = yf.Ticker(ticker)\n",
    "df = data.history(period='1d', start='2020-1-1', end='2020-12-31')\n",
    "\n",
    "start_date = '2020-01-01'\n",
    "end_date = '2023-12-31'\n",
    "quality = yf.Ticker('SPHQ').history(period='1d', start=start_date, end=end_date)['Close'].pct_change()\n",
    "value = yf.Ticker('IVE').history(period='1d', start=start_date, end=end_date)['Close'].pct_change()\n",
    "dividend = yf.Ticker('SPYD').history(period='1d', start=start_date, end=end_date)['Close'].pct_change()\n",
    "low_vol = yf.Ticker('LOWV.L').history(period='1d', start=start_date, end=end_date)['Close'].pct_change()\n",
    "momentum = yf.Ticker('SPMO').history(period='1d', start=start_date, end=end_date)['Close'].pct_change()\n",
    "\n",
    "quality.index = pd.to_datetime(quality.index).strftime('%Y-%m-%d')\n",
    "value.index = pd.to_datetime(value.index).strftime('%Y-%m-%d')\n",
    "dividend.index = pd.to_datetime(dividend.index).strftime('%Y-%m-%d')\n",
    "low_vol.index = pd.to_datetime(low_vol.index).strftime('%Y-%m-%d')\n",
    "momentum.index = pd.to_datetime(momentum.index).strftime('%Y-%m-%d')\n"
   ]
  },
  {
   "cell_type": "code",
   "execution_count": 3,
   "metadata": {},
   "outputs": [],
   "source": [
    "df = pd.concat([quality, value, dividend, low_vol, momentum], axis=1)\n",
    "df.columns = ['Quality', 'Value', 'Dividend', 'Low Vol', 'Momentum']\n",
    "df = df.dropna(how='any')"
   ]
  },
  {
   "cell_type": "code",
   "execution_count": 4,
   "metadata": {},
   "outputs": [
    {
     "data": {
      "text/html": [
       "<div>\n",
       "<style scoped>\n",
       "    .dataframe tbody tr th:only-of-type {\n",
       "        vertical-align: middle;\n",
       "    }\n",
       "\n",
       "    .dataframe tbody tr th {\n",
       "        vertical-align: top;\n",
       "    }\n",
       "\n",
       "    .dataframe thead th {\n",
       "        text-align: right;\n",
       "    }\n",
       "</style>\n",
       "<table border=\"1\" class=\"dataframe\">\n",
       "  <thead>\n",
       "    <tr style=\"text-align: right;\">\n",
       "      <th></th>\n",
       "      <th>Quality</th>\n",
       "      <th>Value</th>\n",
       "      <th>Dividend</th>\n",
       "      <th>Low Vol</th>\n",
       "      <th>Momentum</th>\n",
       "    </tr>\n",
       "    <tr>\n",
       "      <th>Date</th>\n",
       "      <th></th>\n",
       "      <th></th>\n",
       "      <th></th>\n",
       "      <th></th>\n",
       "      <th></th>\n",
       "    </tr>\n",
       "  </thead>\n",
       "  <tbody>\n",
       "    <tr>\n",
       "      <th>2020-01-03</th>\n",
       "      <td>-0.008130</td>\n",
       "      <td>-0.007121</td>\n",
       "      <td>-0.004342</td>\n",
       "      <td>0.000673</td>\n",
       "      <td>-0.003084</td>\n",
       "    </tr>\n",
       "    <tr>\n",
       "      <th>2020-01-06</th>\n",
       "      <td>0.001912</td>\n",
       "      <td>0.001619</td>\n",
       "      <td>0.003335</td>\n",
       "      <td>-0.001514</td>\n",
       "      <td>0.000738</td>\n",
       "    </tr>\n",
       "    <tr>\n",
       "      <th>2020-01-07</th>\n",
       "      <td>-0.003545</td>\n",
       "      <td>-0.003773</td>\n",
       "      <td>-0.002046</td>\n",
       "      <td>-0.000758</td>\n",
       "      <td>-0.005708</td>\n",
       "    </tr>\n",
       "    <tr>\n",
       "      <th>2020-01-08</th>\n",
       "      <td>0.005473</td>\n",
       "      <td>0.002628</td>\n",
       "      <td>0.001281</td>\n",
       "      <td>0.003372</td>\n",
       "      <td>0.005023</td>\n",
       "    </tr>\n",
       "    <tr>\n",
       "      <th>2020-01-09</th>\n",
       "      <td>0.007077</td>\n",
       "      <td>0.004471</td>\n",
       "      <td>0.001279</td>\n",
       "      <td>0.001260</td>\n",
       "      <td>0.010233</td>\n",
       "    </tr>\n",
       "    <tr>\n",
       "      <th>...</th>\n",
       "      <td>...</td>\n",
       "      <td>...</td>\n",
       "      <td>...</td>\n",
       "      <td>...</td>\n",
       "      <td>...</td>\n",
       "    </tr>\n",
       "    <tr>\n",
       "      <th>2023-12-21</th>\n",
       "      <td>0.009356</td>\n",
       "      <td>0.008913</td>\n",
       "      <td>0.009888</td>\n",
       "      <td>-0.005735</td>\n",
       "      <td>0.011688</td>\n",
       "    </tr>\n",
       "    <tr>\n",
       "      <th>2023-12-22</th>\n",
       "      <td>0.000927</td>\n",
       "      <td>0.004069</td>\n",
       "      <td>0.003350</td>\n",
       "      <td>0.003402</td>\n",
       "      <td>0.001849</td>\n",
       "    </tr>\n",
       "    <tr>\n",
       "      <th>2023-12-27</th>\n",
       "      <td>-0.000184</td>\n",
       "      <td>0.001900</td>\n",
       "      <td>0.001019</td>\n",
       "      <td>0.007297</td>\n",
       "      <td>0.003057</td>\n",
       "    </tr>\n",
       "    <tr>\n",
       "      <th>2023-12-28</th>\n",
       "      <td>-0.001107</td>\n",
       "      <td>0.001379</td>\n",
       "      <td>0.003818</td>\n",
       "      <td>0.003293</td>\n",
       "      <td>0.000152</td>\n",
       "    </tr>\n",
       "    <tr>\n",
       "      <th>2023-12-29</th>\n",
       "      <td>-0.001293</td>\n",
       "      <td>-0.001837</td>\n",
       "      <td>-0.006339</td>\n",
       "      <td>0.001167</td>\n",
       "      <td>-0.002194</td>\n",
       "    </tr>\n",
       "  </tbody>\n",
       "</table>\n",
       "<p>983 rows × 5 columns</p>\n",
       "</div>"
      ],
      "text/plain": [
       "             Quality     Value  Dividend   Low Vol  Momentum\n",
       "Date                                                        \n",
       "2020-01-03 -0.008130 -0.007121 -0.004342  0.000673 -0.003084\n",
       "2020-01-06  0.001912  0.001619  0.003335 -0.001514  0.000738\n",
       "2020-01-07 -0.003545 -0.003773 -0.002046 -0.000758 -0.005708\n",
       "2020-01-08  0.005473  0.002628  0.001281  0.003372  0.005023\n",
       "2020-01-09  0.007077  0.004471  0.001279  0.001260  0.010233\n",
       "...              ...       ...       ...       ...       ...\n",
       "2023-12-21  0.009356  0.008913  0.009888 -0.005735  0.011688\n",
       "2023-12-22  0.000927  0.004069  0.003350  0.003402  0.001849\n",
       "2023-12-27 -0.000184  0.001900  0.001019  0.007297  0.003057\n",
       "2023-12-28 -0.001107  0.001379  0.003818  0.003293  0.000152\n",
       "2023-12-29 -0.001293 -0.001837 -0.006339  0.001167 -0.002194\n",
       "\n",
       "[983 rows x 5 columns]"
      ]
     },
     "execution_count": 4,
     "metadata": {},
     "output_type": "execute_result"
    }
   ],
   "source": [
    "df"
   ]
  },
  {
   "cell_type": "code",
   "execution_count": 51,
   "metadata": {},
   "outputs": [],
   "source": [
    "def f(w, cov_mat):\n",
    "    s=0\n",
    "    for i in range(len(w)):\n",
    "        for j in range(len(w)):\n",
    "            s += (w[i]*(cov_mat@w)[i] - w[j]*(cov_mat@w)[j])**2\n",
    "    return s\n",
    "\n",
    "cov_mat = df.cov().values\n",
    "w0 = np.array([0.3, 0.2, 0.1, 0.2, 0.2])\n",
    "\n",
    "#Minimize the function f(w, cov_mat) using the scipy.optimize.minimize function\n",
    "constraints = ({'type': 'eq', 'fun': lambda w: np.sum(w) - 1}, #sum of weights = 1\n",
    "                {'type': 'ineq', 'fun': lambda w: w})   #weights must be positive (long only)\n",
    "result = opt.minimize(f, w0, args=(cov_mat,), constraints=constraints, tol=1e-20)\n",
    "w_opt = result.x"
   ]
  },
  {
   "cell_type": "code",
   "execution_count": 52,
   "metadata": {},
   "outputs": [
    {
     "name": "stdout",
     "output_type": "stream",
     "text": [
      "Marginal contribution of factor 0 : 0.002423167147104411\n",
      "Marginal contribution of factor 1 : 0.0024238323301195752\n",
      "Marginal contribution of factor 2 : 0.0024230824257962962\n",
      "Marginal contribution of factor 3 : 0.002423312420137248\n",
      "Marginal contribution of factor 4 : 0.0024229242751932483\n"
     ]
    }
   ],
   "source": [
    "sigma = np.sqrt(w_opt.T@cov_mat@w_opt)\n",
    "\n",
    "for i in range(5):\n",
    "    s= (w_opt @ cov_mat[i]) / sigma\n",
    "    print(\"Marginal contribution of factor {} : {}\".format(i,w_opt[i]*s))"
   ]
  },
  {
   "cell_type": "code",
   "execution_count": 10,
   "metadata": {},
   "outputs": [
    {
     "name": "stdout",
     "output_type": "stream",
     "text": [
      "Collecting yesg\n",
      "  Downloading yesg-2.1.1.tar.gz (5.8 kB)\n",
      "  Preparing metadata (setup.py) ... \u001b[?25ldone\n",
      "\u001b[?25hBuilding wheels for collected packages: yesg\n",
      "  Building wheel for yesg (setup.py) ... \u001b[?25ldone\n",
      "\u001b[?25h  Created wheel for yesg: filename=yesg-2.1.1-py3-none-any.whl size=6105 sha256=fdcef679672a94937fcdcfa1b1e163b603ec279d7ad9b35812cc40e7262a6f3d\n",
      "  Stored in directory: /home/yohann/.cache/pip/wheels/cd/1c/41/4a3276b715ded8db45d25199e72be0190ea23afaef904e9b28\n",
      "Successfully built yesg\n",
      "Installing collected packages: yesg\n",
      "Successfully installed yesg-2.1.1\n",
      "Note: you may need to restart the kernel to use updated packages.\n"
     ]
    }
   ],
   "source": [
    "pip install yesg"
   ]
  },
  {
   "cell_type": "code",
   "execution_count": null,
   "metadata": {},
   "outputs": [],
   "source": [
    "#replace values from a list with a dictionary\n",
    "df = pd.DataFrame({'A': [0, 1, 2, 3, 4], 'B': [5, 6, 7, 8, 9]})\n",
    "d = {0: 'a', 1: 'b', 2: 'c', 3: 'd', 4: 'e'}\n",
    "df = df.replace({'A': d, 'B': d})\n",
    "df"
   ]
  },
  {
   "cell_type": "code",
   "execution_count": 12,
   "metadata": {},
   "outputs": [
    {
     "name": "stdout",
     "output_type": "stream",
     "text": [
      "An error has occurred. The ticker symbol might be wrong or you might need to wait to continue.\n",
      "An error has occurred. The ticker symbol might be wrong or you might need to wait to continue.\n",
      "An error has occurred. The ticker symbol might be wrong or you might need to wait to continue.\n",
      "An error has occurred. The ticker symbol might be wrong or you might need to wait to continue.\n",
      "An error has occurred. The ticker symbol might be wrong or you might need to wait to continue.\n",
      "An error has occurred. The ticker symbol might be wrong or you might need to wait to continue.\n",
      "An error has occurred. The ticker symbol might be wrong or you might need to wait to continue.\n",
      "An error has occurred. The ticker symbol might be wrong or you might need to wait to continue.\n",
      "An error has occurred. The ticker symbol might be wrong or you might need to wait to continue.\n",
      "An error has occurred. The ticker symbol might be wrong or you might need to wait to continue.\n",
      "An error has occurred. The ticker symbol might be wrong or you might need to wait to continue.\n",
      "An error has occurred. The ticker symbol might be wrong or you might need to wait to continue.\n",
      "An error has occurred. The ticker symbol might be wrong or you might need to wait to continue.\n",
      "An error has occurred. The ticker symbol might be wrong or you might need to wait to continue.\n",
      "An error has occurred. The ticker symbol might be wrong or you might need to wait to continue.\n",
      "An error has occurred. The ticker symbol might be wrong or you might need to wait to continue.\n",
      "An error has occurred. The ticker symbol might be wrong or you might need to wait to continue.\n",
      "An error has occurred. The ticker symbol might be wrong or you might need to wait to continue.\n",
      "An error has occurred. The ticker symbol might be wrong or you might need to wait to continue.\n",
      "An error has occurred. The ticker symbol might be wrong or you might need to wait to continue.\n",
      "An error has occurred. The ticker symbol might be wrong or you might need to wait to continue.\n",
      "An error has occurred. The ticker symbol might be wrong or you might need to wait to continue.\n",
      "An error has occurred. The ticker symbol might be wrong or you might need to wait to continue.\n",
      "An error has occurred. The ticker symbol might be wrong or you might need to wait to continue.\n",
      "An error has occurred. The ticker symbol might be wrong or you might need to wait to continue.\n",
      "An error has occurred. The ticker symbol might be wrong or you might need to wait to continue.\n",
      "An error has occurred. The ticker symbol might be wrong or you might need to wait to continue.\n",
      "An error has occurred. The ticker symbol might be wrong or you might need to wait to continue.\n",
      "An error has occurred. The ticker symbol might be wrong or you might need to wait to continue.\n",
      "An error has occurred. The ticker symbol might be wrong or you might need to wait to continue.\n",
      "An error has occurred. The ticker symbol might be wrong or you might need to wait to continue.\n",
      "An error has occurred. The ticker symbol might be wrong or you might need to wait to continue.\n",
      "An error has occurred. The ticker symbol might be wrong or you might need to wait to continue.\n",
      "An error has occurred. The ticker symbol might be wrong or you might need to wait to continue.\n",
      "An error has occurred. The ticker symbol might be wrong or you might need to wait to continue.\n",
      "An error has occurred. The ticker symbol might be wrong or you might need to wait to continue.\n",
      "An error has occurred. The ticker symbol might be wrong or you might need to wait to continue.\n",
      "An error has occurred. The ticker symbol might be wrong or you might need to wait to continue.\n",
      "An error has occurred. The ticker symbol might be wrong or you might need to wait to continue.\n",
      "An error has occurred. The ticker symbol might be wrong or you might need to wait to continue.\n",
      "An error has occurred. The ticker symbol might be wrong or you might need to wait to continue.\n",
      "An error has occurred. The ticker symbol might be wrong or you might need to wait to continue.\n",
      "An error has occurred. The ticker symbol might be wrong or you might need to wait to continue.\n",
      "An error has occurred. The ticker symbol might be wrong or you might need to wait to continue.\n"
     ]
    }
   ],
   "source": [
    "import yesg\n",
    "\n",
    "# get the s&p 500 tickers\n",
    "tickers = pd.read_html('https://en.wikipedia.org/wiki/List_of_S%26P_500_companies')[0]['Symbol'].tolist()\n",
    "dico = {'GOOG':\"GOOGL\"}\n",
    "df_esg = pd.DataFrame(index=tickers, columns=['ESG Score'])\n",
    "for ticker in tickers:\n",
    "    try:\n",
    "        if(ticker in dico.keys()):\n",
    "            df_esg.loc[ticker, \"ESG Score\"] = yesg.get_historic_esg(dico[ticker]).iloc[-1,0]\n",
    "        else:\n",
    "            df_esg.loc[ticker, \"ESG Score\"] = yesg.get_historic_esg(ticker).iloc[-1,0]\n",
    "    except AttributeError:\n",
    "        pass"
   ]
  },
  {
   "cell_type": "code",
   "execution_count": 20,
   "metadata": {},
   "outputs": [
    {
     "data": {
      "text/plain": [
       "Index(['GOOG', 'AMCR', 'AMTM', 'BRK.B', 'BF.B', 'BLDR', 'CARR', 'CTLT', 'CRL',\n",
       "       'CPAY', 'CTVA', 'DAY', 'DECK', 'DOW', 'EPAM', 'FICO', 'FOX', 'GEV',\n",
       "       'GNRC', 'GDDY', 'DOC', 'HWM', 'INVH', 'JBL', 'KVUE', 'KKR', 'LHX', 'LW',\n",
       "       'LYV', 'MOH', 'NWS', 'OTIS', 'PLTR', 'PAYC', 'SW', 'SOLV', 'STE', 'TDY',\n",
       "       'TYL', 'UBER', 'VLTO', 'VICI', 'VST', 'WST'],\n",
       "      dtype='object')"
      ]
     },
     "execution_count": 20,
     "metadata": {},
     "output_type": "execute_result"
    }
   ],
   "source": [
    "df_esg[df_esg.isna().values].index"
   ]
  },
  {
   "cell_type": "code",
   "execution_count": 21,
   "metadata": {},
   "outputs": [],
   "source": [
    "df_esg.dropna(axis=0, inplace=True)\n",
    "#The best ESG score is 0\n",
    "#drop the worst decile of the ESG scores (keep the top 90%)\n",
    "quantile_threshold = 0.9\n",
    "df_esg = df_esg[df_esg['ESG Score'] < df_esg['ESG Score'].quantile(quantile_threshold)]"
   ]
  },
  {
   "cell_type": "markdown",
   "metadata": {},
   "source": [
    "### Implementations of equal risk contribution\n",
    "- https://github.com/matthewgilbert/erc/blob/master/erc/erc.py\n",
    "- https://github.com/mirca/riskparity.py (not used)\n",
    "- https://thequantmba.wordpress.com/2016/12/14/risk-parityrisk-budgeting-portfolio-in-python/\n",
    "\n",
    "### Papers\n",
    "- [Paper of Maillard, Roncalli and Teiletche](http://thierry-roncalli.com/download/erc.pdf)\n",
    "- [Slides of Maillard, Roncalli and Teiletche](http://www.thierry-roncalli.com/download/erc-slides.pdf)\n",
    "- [Master's thesis of David Stefanovits](https://ethz.ch/content/dam/ethz/special-interest/math/risklab-dam/documents/walter-saxer-preis/ma-stefanovits.pdf)\n"
   ]
  },
  {
   "cell_type": "markdown",
   "metadata": {},
   "source": []
  }
 ],
 "metadata": {
  "kernelspec": {
   "display_name": "base",
   "language": "python",
   "name": "python3"
  },
  "language_info": {
   "codemirror_mode": {
    "name": "ipython",
    "version": 3
   },
   "file_extension": ".py",
   "mimetype": "text/x-python",
   "name": "python",
   "nbconvert_exporter": "python",
   "pygments_lexer": "ipython3",
   "version": "3.12.3"
  }
 },
 "nbformat": 4,
 "nbformat_minor": 2
}
